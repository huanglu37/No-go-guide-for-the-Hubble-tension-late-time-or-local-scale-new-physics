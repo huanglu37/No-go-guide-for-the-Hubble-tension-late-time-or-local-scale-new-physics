{
 "cells": [
  {
   "cell_type": "code",
   "execution_count": 1,
   "id": "975ff750",
   "metadata": {
    "ExecuteTime": {
     "end_time": "2024-01-24T02:59:58.602163Z",
     "start_time": "2024-01-24T02:59:57.895273Z"
    }
   },
   "outputs": [],
   "source": [
    "import time \n",
    "import getdist\n",
    "import emcee\n",
    "import numpy as np\n",
    "import pandas as pd\n",
    "import matplotlib.pyplot as plt\n",
    "from tqdm import tqdm\n",
    "from scipy.interpolate import interp1d\n",
    "from scipy.integrate import quad, odeint\n",
    "from getdist import plots, MCSamples\n",
    "from astropy.convolution import Gaussian1DKernel\n",
    "%matplotlib inline"
   ]
  },
  {
   "cell_type": "markdown",
   "id": "70d988a0",
   "metadata": {},
   "source": [
    "# Omegam, delta, zc, beta from IDL inversely calibrate local SN"
   ]
  },
  {
   "cell_type": "code",
   "execution_count": 2,
   "id": "d8147f63",
   "metadata": {
    "ExecuteTime": {
     "end_time": "2024-01-24T02:59:59.479988Z",
     "start_time": "2024-01-24T02:59:58.603692Z"
    }
   },
   "outputs": [],
   "source": [
    "IDL = emcee.backends.HDFBackend(\"../Chains/IDL=HFSN+2DBAO+CC/PDE.h5\",\n",
    "                                read_only=True)\n",
    "tau = IDL.get_autocorr_time()\n",
    "burnin = int(2 * np.max(tau))\n",
    "thin = int(0.5 * np.min(tau))\n",
    "\n",
    "flatchainIDL = IDL.get_chain(discard=burnin, flat=True, thin=thin)"
   ]
  },
  {
   "cell_type": "code",
   "execution_count": 3,
   "id": "028d84d9",
   "metadata": {
    "ExecuteTime": {
     "end_time": "2024-01-24T02:59:59.749964Z",
     "start_time": "2024-01-24T02:59:59.482174Z"
    }
   },
   "outputs": [
    {
     "data": {
      "text/plain": [
       "'\\nHere is inverse calibration chain, only need to run once\\n'"
      ]
     },
     "execution_count": 3,
     "metadata": {},
     "output_type": "execute_result"
    }
   ],
   "source": [
    "# read the SN data\n",
    "\n",
    "Pantheonplus_Data = pd.read_csv(\"../Data/Pantheon+SH0ES.dat\", sep='\\s+')\n",
    "\n",
    "Pantheonplus_Data = Pantheonplus_Data[[\"CID\", \"zHD\", \"zCMB\", \"zHEL\", \"m_b_corr\", \n",
    "                                                                     \"CEPH_DIST\", \"IS_CALIBRATOR\",\n",
    "                                                                     \"USED_IN_SH0ES_HF\"]]\n",
    "\n",
    "Pantheonplus_covariance = pd.read_csv(\"../Data/Pantheon+SH0ES_STAT+SYS.cov\",\n",
    "                                                                  sep='\\s+').values.reshape(1701, 1701)\n",
    "\n",
    "local_SN = Pantheonplus_Data.query(\"zHD<0.0233\")\n",
    "\n",
    "ndim = local_SN.shape[0]\n",
    "SN_cov = np.zeros((ndim, ndim))\n",
    "SN_cov_index = local_SN.index\n",
    "SN_cov = np.array([Pantheonplus_covariance[SN_cov_index[i], SN_cov_index[j]]\n",
    "                                for i in range(0, ndim) for j in range(0, ndim)\n",
    "                                ]).reshape(ndim, ndim)\n",
    "\n",
    "inverse_SN_cov = np.matrix(SN_cov).I\n",
    "\n",
    "\n",
    "class PDE():\n",
    "    def __init__(self,\n",
    "                 H0=70,\n",
    "                 Magnitude=-19.2,\n",
    "                 rd=147,\n",
    "                 Omegam=0.3,\n",
    "                 Delta=0.3,\n",
    "                 zc=0.1,\n",
    "                 beta=2):\n",
    "        self.Omegam = Omegam\n",
    "        self.OmegaL = 1 - Omegam\n",
    "        self.Omegak = 0\n",
    "        self.H0 = H0\n",
    "        self.rd = rd\n",
    "        self.Magnitude = Magnitude\n",
    "        self.Delta = Delta\n",
    "        self.zc = zc\n",
    "        self.beta = beta\n",
    "        self.H0Mpc = H0 / 2.998e5  #Mpc^{-1}\n",
    "\n",
    "    def Hofz(self, z):  #Ez = Hz/h/100\n",
    "        Ez = np.sqrt(self.Omegam * (1 + z)**3 + self.OmegaL *\n",
    "                     (1 + self.Delta * np.exp(-(z / self.zc)**self.beta)))\n",
    "        return (Ez)\n",
    "\n",
    "    def Hofa(self, a):\n",
    "        return np.sqrt(self.Omegam / a**3 + self.OmegaL *\n",
    "                       (1 + self.Delta * np.exp(-(\n",
    "                           (1 / a - 1) / self.zc)**self.beta)))\n",
    "\n",
    "    def Comoving_distance(self, z):\n",
    "        \n",
    "        def dchibydz(znow):\n",
    "            return 1 / self.Hofz(znow)\n",
    "\n",
    "        def dC(znow):\n",
    "            I = quad(dchibydz, 0, znow)[0]\n",
    "            return (I)\n",
    "\n",
    "        if (type(z) == np.ndarray):\n",
    "            dc = [dC(znow) for znow in z]\n",
    "            return (np.array(dc))\n",
    "        \n",
    "        else:\n",
    "            return dC(z)\n",
    "\n",
    "    def dL(self, zcmb):\n",
    "        return (1 + zcmb) * self.Comoving_distance(zcmb)\n",
    "\n",
    "    def calc_aB(self, SN_z_data, inver_cov):\n",
    "\n",
    "        dL_vector = np.matrix(\n",
    "            [np.log10(self.dL(zn)) for zn in SN_z_data[\"zHD\"].values])\n",
    "\n",
    "        mB_vector = np.matrix(0.2 * SN_z_data[\"m_b_corr\"].values)\n",
    "\n",
    "        delta_vector = dL_vector - mB_vector\n",
    "\n",
    "        aB = np.sum(inver_cov * delta_vector.T) / np.sum(inver_cov)\n",
    "\n",
    "        return aB\n",
    "\n",
    "\n",
    "\"\"\"\n",
    "Here is inverse calibration chain, only need to run once\n",
    "\"\"\"\n",
    "#aB_PDEparam_IDL = np.array([PDE(0,0, 0, Om, delta, zc, beta).calc_aB(local_SN, inverse_SN_cov) for H0, MB, rd, Om, delta, zc, beta in tqdm(flatchainIDL)])\n",
    "#np.save(\"../Figure3/aB_PDEparam_IDL.npy\", aB_PDEparam_IDL)"
   ]
  },
  {
   "cell_type": "code",
   "execution_count": null,
   "id": "ea590cc8",
   "metadata": {},
   "outputs": [],
   "source": []
  },
  {
   "cell_type": "markdown",
   "id": "12c0b7ae",
   "metadata": {},
   "source": [
    "# Note: it is important to transform H0f to H0"
   ]
  },
  {
   "cell_type": "code",
   "execution_count": 4,
   "id": "71ac9d28",
   "metadata": {
    "ExecuteTime": {
     "end_time": "2024-01-24T02:59:59.754227Z",
     "start_time": "2024-01-24T02:59:59.751140Z"
    }
   },
   "outputs": [],
   "source": [
    "def PDE_Hz(Om, delta, zc, beta, z):\n",
    "    OmL = 1-Om\n",
    "    Ez = np.sqrt(Om*(1+z)**3+OmL*(1+delta*np.exp(-(z/zc)**beta)))\n",
    "    return Ez\n",
    "\n",
    "def transform_H0(chain):\n",
    "    H0f_array, Om_array, delta_array, zc_array, beta_array = chain[:, 0], chain[:, -4], chain[:, -3], chain[:, -2], chain[:, -1]\n",
    "    H0 = PDE_Hz(Om_array, delta_array, zc_array, beta_array, 0) * H0f_array\n",
    "    return H0"
   ]
  },
  {
   "cell_type": "code",
   "execution_count": 5,
   "id": "84a1d02a",
   "metadata": {
    "ExecuteTime": {
     "end_time": "2024-01-24T03:00:00.607928Z",
     "start_time": "2024-01-24T02:59:59.755649Z"
    }
   },
   "outputs": [
    {
     "name": "stderr",
     "output_type": "stream",
     "text": [
      "/tmp/ipykernel_44603/4125021496.py:3: RuntimeWarning: divide by zero encountered in power\n",
      "  Ez = np.sqrt(Om*(1+z)**3+OmL*(1+delta*np.exp(-(z/zc)**beta)))\n"
     ]
    }
   ],
   "source": [
    "PDE_IDL = emcee.backends.HDFBackend(\"../Chains/IDL=HFSN+2DBAO+CC/PDE.h5\",\n",
    "                                    read_only=True)\n",
    "\n",
    "tau = PDE_IDL.get_autocorr_time()\n",
    "burnin = int(2 * np.max(tau))\n",
    "thin = int(0.5 * np.min(tau))\n",
    "\n",
    "flatchainPDE_IDL = PDE_IDL.get_chain(discard=burnin, flat=True, thin=thin)\n",
    "\n",
    "flatchainPDE_IDL[:, 0] = transform_H0(flatchainPDE_IDL)"
   ]
  },
  {
   "cell_type": "code",
   "execution_count": 6,
   "id": "8ab025a1",
   "metadata": {
    "ExecuteTime": {
     "end_time": "2024-01-24T03:00:01.221333Z",
     "start_time": "2024-01-24T03:00:00.609246Z"
    }
   },
   "outputs": [
    {
     "name": "stderr",
     "output_type": "stream",
     "text": [
      "/tmp/ipykernel_44603/4125021496.py:3: RuntimeWarning: divide by zero encountered in power\n",
      "  Ez = np.sqrt(Om*(1+z)**3+OmL*(1+delta*np.exp(-(z/zc)**beta)))\n"
     ]
    }
   ],
   "source": [
    "PDE_MB_IDL = emcee.backends.HDFBackend(\"../Chains/MB(IDL)+LocalSN/PDE.h5\",\n",
    "                                       read_only=True)\n",
    "\n",
    "tau = PDE_MB_IDL.get_autocorr_time()\n",
    "burnin = int(2 * np.max(tau))\n",
    "thin = int(0.5 * np.min(tau))\n",
    "\n",
    "flatchainPDE_MB_IDL = PDE_MB_IDL.get_chain(discard=burnin,\n",
    "                                           flat=True,\n",
    "                                           thin=thin)\n",
    "\n",
    "flatchainPDE_MB_IDL[:, 0] = transform_H0(flatchainPDE_MB_IDL)"
   ]
  },
  {
   "cell_type": "code",
   "execution_count": 7,
   "id": "8282b8c0",
   "metadata": {
    "ExecuteTime": {
     "end_time": "2024-01-24T03:00:01.813368Z",
     "start_time": "2024-01-24T03:00:01.223130Z"
    }
   },
   "outputs": [
    {
     "name": "stderr",
     "output_type": "stream",
     "text": [
      "/tmp/ipykernel_44603/4125021496.py:3: RuntimeWarning: divide by zero encountered in power\n",
      "  Ez = np.sqrt(Om*(1+z)**3+OmL*(1+delta*np.exp(-(z/zc)**beta)))\n"
     ]
    }
   ],
   "source": [
    "PDE_MB_SH0ES_HFSN = emcee.backends.HDFBackend(\n",
    "    \"../Chains/MB(SH0ES)+HFSN/PDE.h5\", read_only=True)\n",
    "\n",
    "tau = PDE_MB_SH0ES_HFSN.get_autocorr_time()\n",
    "burnin = int(2 * np.max(tau))\n",
    "thin = int(0.5 * np.min(tau))\n",
    "\n",
    "flatchainPDE_MB_SH0ES_HFSN = PDE_MB_SH0ES_HFSN.get_chain(discard=burnin,\n",
    "                                                         flat=True,\n",
    "                                                         thin=thin)\n",
    "\n",
    "flatchainPDE_MB_SH0ES_HFSN[:, 0] = transform_H0(flatchainPDE_MB_SH0ES_HFSN)"
   ]
  },
  {
   "cell_type": "code",
   "execution_count": 8,
   "id": "21e860a1",
   "metadata": {
    "ExecuteTime": {
     "end_time": "2024-01-24T03:00:02.449670Z",
     "start_time": "2024-01-24T03:00:01.814723Z"
    }
   },
   "outputs": [],
   "source": [
    "PDE_MB_SH0ES_localSN = emcee.backends.HDFBackend(\n",
    "    \"../Chains/MB(SH0ES)+LocalSN/PDE.h5\", read_only=True)\n",
    "\n",
    "tau = PDE_MB_SH0ES_localSN.get_autocorr_time()\n",
    "burnin = int(2 * np.max(tau))\n",
    "thin = int(0.5 * np.min(tau))\n",
    "\n",
    "flatchainPDE_MB_SH0ES_localSN = PDE_MB_SH0ES_localSN.get_chain(discard=burnin,\n",
    "                                                               flat=True,\n",
    "                                                               thin=thin)\n",
    "\n",
    "flatchainPDE_MB_SH0ES_localSN[:,\n",
    "                              0] = transform_H0(flatchainPDE_MB_SH0ES_localSN)"
   ]
  },
  {
   "cell_type": "code",
   "execution_count": 9,
   "id": "7f6e6f67",
   "metadata": {
    "ExecuteTime": {
     "end_time": "2024-01-24T03:00:02.453507Z",
     "start_time": "2024-01-24T03:00:02.451084Z"
    }
   },
   "outputs": [],
   "source": [
    "def calculate_aB(H0_array, MB_array):\n",
    "\n",
    "    aB = -0.2 * (MB_array + 25 - 5 * np.log10(H0_array) +\n",
    "                 5 * np.log10(2.998e5))\n",
    "\n",
    "    return aB"
   ]
  },
  {
   "cell_type": "code",
   "execution_count": 10,
   "id": "f6780f81",
   "metadata": {
    "ExecuteTime": {
     "end_time": "2024-01-24T03:00:02.466596Z",
     "start_time": "2024-01-24T03:00:02.454546Z"
    }
   },
   "outputs": [],
   "source": [
    "IDL = calculate_aB(flatchainPDE_IDL[:, 0] , flatchainPDE_IDL[:, 1] )\n",
    "\n",
    "MB_IDL = calculate_aB(flatchainPDE_MB_IDL[:, 0], flatchainPDE_MB_IDL[:, 1])\n",
    "\n",
    "MB_SH0ES_HFSN = calculate_aB(flatchainPDE_MB_SH0ES_HFSN[:, 0], flatchainPDE_MB_SH0ES_HFSN[:, 1])\n",
    "\n",
    "MB_SH0ES_localSN = calculate_aB(flatchainPDE_MB_SH0ES_localSN[:, 0], flatchainPDE_MB_SH0ES_localSN[:, 1])\n",
    "\n",
    "\n",
    "PDEparam_IDL = np.load(\"aB_PDEparam_IDL.npy\")"
   ]
  },
  {
   "cell_type": "code",
   "execution_count": 11,
   "id": "c80ebc93",
   "metadata": {
    "ExecuteTime": {
     "end_time": "2024-01-24T03:00:02.470274Z",
     "start_time": "2024-01-24T03:00:02.467889Z"
    }
   },
   "outputs": [],
   "source": [
    "# params = tuple(['a_B'])\n",
    "# IDL_aB = MCSamples(samples=IDL, names=params, labels=params)\n",
    "# MB_IDL_aB = MCSamples(samples=MB_IDL, names=params, labels=params)\n",
    "# MB_SH0ES_HFSN_aB = MCSamples(samples=MB_SH0ES_HFSN, names=params, labels=params)\n",
    "# MB_SH0ES_localSN_aB = MCSamples(samples=MB_SH0ES_localSN, names=params, labels=params)\n",
    "# PDEparam_IDL_aB = MCSamples(samples=PDEparam_IDL, names=params, labels=params)"
   ]
  },
  {
   "cell_type": "code",
   "execution_count": 12,
   "id": "4b2d0108",
   "metadata": {
    "ExecuteTime": {
     "end_time": "2024-01-24T03:00:02.475253Z",
     "start_time": "2024-01-24T03:00:02.472679Z"
    }
   },
   "outputs": [],
   "source": [
    "k = Gaussian1DKernel(4)\n",
    "\n",
    "\n",
    "def Gaussian_processing(chain, bins):\n",
    "    prob, aB = np.histogram(chain, bins=bins, range=None)\n",
    "    prob = np.convolve(prob, k, mode='same')\n",
    "    prob = prob / prob.max()\n",
    "    return prob, aB[1:]"
   ]
  },
  {
   "cell_type": "code",
   "execution_count": 13,
   "id": "0e7998a5",
   "metadata": {
    "ExecuteTime": {
     "end_time": "2024-01-24T03:00:02.480909Z",
     "start_time": "2024-01-24T03:00:02.476743Z"
    }
   },
   "outputs": [],
   "source": [
    "IDL_probabilitydensity = Gaussian_processing(IDL, 100)\n",
    "\n",
    "MB_IDL_probabilitydensity = Gaussian_processing(MB_IDL, 300)\n",
    "\n",
    "PDEparam_IDL_probabilitydensity = Gaussian_processing(PDEparam_IDL, 100)\n",
    "\n",
    "MB_SH0ES_HFSN_probabilitydensity = Gaussian_processing(MB_SH0ES_HFSN, 300)\n",
    "\n",
    "MB_SH0ES_localSN_probabilitydensity = Gaussian_processing(\n",
    "    MB_SH0ES_localSN, 300)"
   ]
  },
  {
   "cell_type": "code",
   "execution_count": 14,
   "id": "58066e41",
   "metadata": {
    "ExecuteTime": {
     "end_time": "2024-01-24T03:00:02.730089Z",
     "start_time": "2024-01-24T03:00:02.481857Z"
    }
   },
   "outputs": [
    {
     "data": {
      "image/png": "[encoded data removed]",
      "text/plain": [
       "<Figure size 640x480 with 1 Axes>"
      ]
     },
     "metadata": {},
     "output_type": "display_data"
    }
   ],
   "source": [
    "plt.fill_between(IDL_probabilitydensity[1],\n",
    "                 IDL_probabilitydensity[0],\n",
    "                 y2=0,\n",
    "                 color='#FF1F5B',\n",
    "                 alpha=1)\n",
    "\n",
    "plt.fill_between(MB_IDL_probabilitydensity[1],\n",
    "                 MB_IDL_probabilitydensity[0],\n",
    "                 y2=0,\n",
    "                 color='#FFC61E',\n",
    "                 alpha=1)\n",
    "\n",
    "plt.fill_between(PDEparam_IDL_probabilitydensity[1],\n",
    "                 PDEparam_IDL_probabilitydensity[0],\n",
    "                 y2=0,\n",
    "                 color='#009ADE',\n",
    "                 alpha=0.8)\n",
    "\n",
    "plt.plot(MB_SH0ES_HFSN_probabilitydensity[1],\n",
    "         MB_SH0ES_HFSN_probabilitydensity[0] * 1.4,\n",
    "         color='#00CD6C',\n",
    "         lw=2.2,\n",
    "         linestyle='-.')\n",
    "\n",
    "plt.plot(MB_SH0ES_localSN_probabilitydensity[1],\n",
    "         MB_SH0ES_localSN_probabilitydensity[0] * 1.4,\n",
    "         color='#AF58BA',\n",
    "         lw=2.2,\n",
    "         linestyle='-.')\n",
    "\n",
    "plt.xticks(np.arange(-5.2, -4.6, 0.05), fontsize=10)\n",
    "plt.yticks([])\n",
    "plt.xlim(-5.04, -4.66)\n",
    "plt.ylim(0, 2)\n",
    "\n",
    "plt.legend(labels=[\n",
    "    'IDL=HFSN+2DBAO+CC',\n",
    "    r'$\\mathrm{M_B}$(IDL)+LocalSN',\n",
    "    r'($\\mathrm{\\Omega_m, \\Delta, z_c, \\beta}$)(IDL)+LocalSN',\n",
    "    r'$\\mathrm{M_B}$(SH0ES)+HFSN',\n",
    "    r'$\\mathrm{M_B}$(SH0ES)+LocalSN',\n",
    "],\n",
    "           loc='upper left',\n",
    "           title='PDE',\n",
    "           fontsize=10,\n",
    "           title_fontsize=13,\n",
    "           ncol=2)\n",
    "\n",
    "plt.annotate(text='',\n",
    "             xy=(-4.88, 0.55),\n",
    "             xytext=(-4.755, 0.55),\n",
    "             arrowprops=dict(arrowstyle='<->'))\n",
    "plt.annotate(text='$\\sim3.4\\sigma$',\n",
    "             xy=(-4.84, 0.6),\n",
    "             xytext=(-4.84, 0.6),\n",
    "             arrowprops=None,\n",
    "             fontsize=13)\n",
    "\n",
    "plt.annotate(text='',\n",
    "             xy=(-4.88, 1.1),\n",
    "             xytext=(-4.747, 1.1),\n",
    "             arrowprops=dict(arrowstyle='<->'))\n",
    "plt.annotate(text='$\\sim3.4\\sigma$',\n",
    "             xy=(-4.84, 1.15),\n",
    "             xytext=(-4.84, 1.15),\n",
    "             arrowprops=None,\n",
    "             fontsize=13)\n",
    "\n",
    "plt.xlabel(\"$a_B$\", fontsize=13)\n",
    "plt.savefig(\"PDE-aB-probility.pdf\", dpi=1000, bbox_inches='tight')"
   ]
  },
  {
   "cell_type": "code",
   "execution_count": null,
   "id": "9f85dba3",
   "metadata": {},
   "outputs": [],
   "source": []
  },
  {
   "cell_type": "code",
   "execution_count": null,
   "id": "68cd2d90",
   "metadata": {},
   "outputs": [],
   "source": []
  }
 ],
 "metadata": {
  "kernelspec": {
   "display_name": "Python 3 (ipykernel)",
   "language": "python",
   "name": "python3"
  },
  "language_info": {
   "codemirror_mode": {
    "name": "ipython",
    "version": 3
   },
   "file_extension": ".py",
   "mimetype": "text/x-python",
   "name": "python",
   "nbconvert_exporter": "python",
   "pygments_lexer": "ipython3",
   "version": "3.11.7"
  },
  "toc": {
   "base_numbering": 1,
   "nav_menu": {},
   "number_sections": true,
   "sideBar": true,
   "skip_h1_title": false,
   "title_cell": "Table of Contents",
   "title_sidebar": "Contents",
   "toc_cell": false,
   "toc_position": {},
   "toc_section_display": true,
   "toc_window_display": false
  }
 },
 "nbformat": 4,
 "nbformat_minor": 5
}
