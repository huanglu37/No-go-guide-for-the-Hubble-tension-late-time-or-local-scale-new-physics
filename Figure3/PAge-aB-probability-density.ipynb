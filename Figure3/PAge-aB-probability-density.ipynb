{
 "cells": [
  {
   "cell_type": "code",
   "execution_count": 1,
   "id": "d401f3a5",
   "metadata": {
    "ExecuteTime": {
     "end_time": "2024-01-24T02:54:35.205650Z",
     "start_time": "2024-01-24T02:54:34.452480Z"
    }
   },
   "outputs": [],
   "source": [
    "import time \n",
    "import getdist\n",
    "import emcee\n",
    "import numpy as np\n",
    "import pandas as pd\n",
    "import matplotlib.pyplot as plt\n",
    "from tqdm import tqdm\n",
    "from scipy.interpolate import interp1d\n",
    "from scipy.integrate import quad, odeint\n",
    "from getdist import plots, MCSamples\n",
    "from astropy.convolution import Gaussian1DKernel\n",
    "%matplotlib inline"
   ]
  },
  {
   "cell_type": "markdown",
   "id": "2eb662df",
   "metadata": {},
   "source": [
    "#  page,eta from IDL inversely calibrate local SN"
   ]
  },
  {
   "cell_type": "code",
   "execution_count": 2,
   "id": "7b2cda19",
   "metadata": {
    "ExecuteTime": {
     "end_time": "2024-01-24T02:54:35.285223Z",
     "start_time": "2024-01-24T02:54:35.206914Z"
    }
   },
   "outputs": [],
   "source": [
    "IDL = emcee.backends.HDFBackend(\"../Chains/IDL=HFSN+2DBAO+CC/PAge.h5\",\n",
    "                                read_only=True)\n",
    "tau = IDL.get_autocorr_time()\n",
    "burnin = int(2 * np.max(tau))\n",
    "thin = int(0.5 * np.min(tau))\n",
    "\n",
    "flatchainIDL = IDL.get_chain(discard=burnin, flat=True, thin=thin)"
   ]
  },
  {
   "cell_type": "code",
   "execution_count": 3,
   "id": "2192d937",
   "metadata": {
    "ExecuteTime": {
     "end_time": "2024-01-24T02:54:35.620530Z",
     "start_time": "2024-01-24T02:54:35.286865Z"
    }
   },
   "outputs": [
    {
     "data": {
      "text/plain": [
       "'\\nHere is inverse calibration chain, only need to run once\\n'"
      ]
     },
     "execution_count": 3,
     "metadata": {},
     "output_type": "execute_result"
    }
   ],
   "source": [
    "# read the SN data\n",
    "\n",
    "Pantheonplus_Data = pd.read_csv(\"../Data/Pantheon+SH0ES.dat\", sep='\\s+')\n",
    "\n",
    "Pantheonplus_Data = Pantheonplus_Data[[\"CID\", \"zHD\", \"zCMB\", \"zHEL\", \"m_b_corr\", \n",
    "                                                                     \"CEPH_DIST\", \"IS_CALIBRATOR\",\n",
    "                                                                     \"USED_IN_SH0ES_HF\"]]\n",
    "\n",
    "Pantheonplus_covariance = pd.read_csv(\"../Data/Pantheon+SH0ES_STAT+SYS.cov\",\n",
    "                                                                  sep='\\s+').values.reshape(1701, 1701)\n",
    "\n",
    "local_SN = Pantheonplus_Data.query(\"zHD<0.0233\")\n",
    "\n",
    "ndim = local_SN.shape[0]\n",
    "SN_cov = np.zeros((ndim, ndim))\n",
    "SN_cov_index = local_SN.index\n",
    "SN_cov = np.array([Pantheonplus_covariance[SN_cov_index[i], SN_cov_index[j]]\n",
    "                                for i in range(0, ndim) for j in range(0, ndim)\n",
    "                                ]).reshape(ndim, ndim)\n",
    "\n",
    "inverse_SN_cov = np.matrix(SN_cov).I\n",
    "\n",
    "\n",
    "class PAge():\n",
    "    c = 2.998e5  #km/s/Mpc\n",
    "\n",
    "    def __init__(self, page=None, eta=None):\n",
    "        self.page = page\n",
    "        self.eta = eta\n",
    "        self.set_background()\n",
    "\n",
    "    def set_background(self):\n",
    "        self.tlist = np.linspace(0.01, 1.3, 100)\n",
    "        self.alist = self.aoft(self.tlist)\n",
    "        self.zlist = 1 / self.alist - 1\n",
    "        self.tofa = interp1d(self.alist, self.tlist, kind='cubic')  #calculate the t and a relation of PAge\n",
    "        self.tofz = interp1d(self.zlist, self.tlist, kind='cubic')\n",
    "        self.Hlist = self.Hoft(self.tlist)\n",
    "        self.Hofz = interp1d(self.zlist, self.Hlist, kind='cubic')\n",
    "\n",
    "    def Hoft(self, t):\n",
    "        page, eta = self.page, self.eta\n",
    "        return 1 + (2. / 3.) * (1 - eta * t / page) * (1. / t - 1. / page)\n",
    "\n",
    "    def aoft(self, t):\n",
    "        page, eta = self.page, self.eta\n",
    "        return (t / page)**(2.0 / 3.0) * np.exp(eta / 3.0 *\n",
    "                                                ((t / page)**2 - 1) +\n",
    "                                                (page - (2.0 / 3.0) *\n",
    "                                                 (1.0 + eta)) *\n",
    "                                                (t / page - 1.0))\n",
    "\n",
    "    def chi(self, z):\n",
    "\n",
    "        inverse_a = lambda t: 1 / self.aoft(t)\n",
    "\n",
    "        t0 = self.page\n",
    "        tz = self.tofa(1 / (1 + z))\n",
    "        Integral = -quad(inverse_a, t0, tz)[0]\n",
    "        return Integral\n",
    "\n",
    "    def Comoving_distance(self, zcmb):\n",
    "\n",
    "        if ((type(zcmb) == np.ndarray) |\n",
    "            (type(zcmb) == pd.core.series.Series)):\n",
    "            I = np.array([self.chi(nz) for nz in zcmb])\n",
    "        else:\n",
    "            I = self.chi(zcmb)\n",
    "\n",
    "        res = I\n",
    "        return res\n",
    "\n",
    "    def dL(self, zcmb):\n",
    "        return (1 + zcmb) * self.Comoving_distance(zcmb)\n",
    "\n",
    "    def calc_aB(self, SN_z_data, inver_cov):\n",
    "\n",
    "        dL_vector = np.matrix(\n",
    "            [np.log10(self.dL(zn)) for zn in SN_z_data[\"zHD\"].values])\n",
    "\n",
    "        mB_vector = np.matrix(0.2 * SN_z_data[\"m_b_corr\"].values)\n",
    "\n",
    "        delta_vector = dL_vector - mB_vector\n",
    "\n",
    "        aB = np.sum(inver_cov * delta_vector.T) / np.sum(inver_cov)\n",
    "\n",
    "        return aB\n",
    "\n",
    "\n",
    "\"\"\"\n",
    "Here is inverse calibration chain, only need to run once\n",
    "\"\"\"\n",
    "#aB_page_eta_IDL = np.array([PAge(page, eta).calc_aB(local_SN, inverse_SN_cov) for page, eta in tqdm(flatchainIDL[:, -2:])])\n",
    "#np.save(\"../Figure3/aB_page_eta_IDL.npy\", aB_page_eta_IDL)"
   ]
  },
  {
   "cell_type": "code",
   "execution_count": 4,
   "id": "93109651",
   "metadata": {
    "ExecuteTime": {
     "end_time": "2024-01-24T02:54:35.624014Z",
     "start_time": "2024-01-24T02:54:35.621649Z"
    }
   },
   "outputs": [],
   "source": [
    "def calculate_aB(path):\n",
    "\n",
    "    chain = emcee.backends.HDFBackend(path, read_only=True)\n",
    "    tau = chain.get_autocorr_time()\n",
    "    burnin = int(2 * np.max(tau))\n",
    "    thin = int(0.5 * np.min(tau))\n",
    "\n",
    "    flatchain = chain.get_chain(discard=burnin, flat=True, thin=thin)[:, :2]\n",
    "\n",
    "    H0_chain = flatchain[:, 0]\n",
    "    MB_chain = flatchain[:, 1]\n",
    "    aB = -0.2 * (MB_chain + 25 - 5 * np.log10(H0_chain) +\n",
    "                 5 * np.log10(2.998e5))\n",
    "\n",
    "    return aB"
   ]
  },
  {
   "cell_type": "code",
   "execution_count": 5,
   "id": "1b8ab5fe",
   "metadata": {
    "ExecuteTime": {
     "end_time": "2024-01-24T02:54:35.829934Z",
     "start_time": "2024-01-24T02:54:35.624867Z"
    }
   },
   "outputs": [],
   "source": [
    "IDL = calculate_aB(\"../Chains/IDL=HFSN+2DBAO+CC/PAge.h5\")\n",
    "MB_IDL = calculate_aB(\"../Chains/MB(IDL)+LocalSN/PAge.h5\")\n",
    "MB_SH0ES_HFSN = calculate_aB(\"../Chains/MB(SH0ES)+HFSN/PAge.h5\")\n",
    "MB_SH0ES_localSN = calculate_aB(\"../Chains/MB(SH0ES)+LocalSN/PAge.h5\")\n",
    "\n",
    "page_eta_IDL = np.load(\"aB_page_eta_IDL.npy\")"
   ]
  },
  {
   "cell_type": "code",
   "execution_count": 6,
   "id": "c5969078",
   "metadata": {
    "ExecuteTime": {
     "end_time": "2024-01-24T02:54:35.832923Z",
     "start_time": "2024-01-24T02:54:35.831026Z"
    }
   },
   "outputs": [],
   "source": [
    "# params = tuple(['a_B'])\n",
    "# IDL_aB = MCSamples(samples=IDL, names=params, labels=params)\n",
    "# MB_IDL_aB = MCSamples(samples=MB_IDL, names=params, labels=params)\n",
    "# MB_SH0ES_HFSN_aB = MCSamples(samples=MB_SH0ES_HFSN,\n",
    "#                              names=params,\n",
    "#                              labels=params)\n",
    "# MB_SH0ES_localSN_aB = MCSamples(samples=MB_SH0ES_localSN,\n",
    "#                                 names=params,\n",
    "#                                 labels=params)\n",
    "# page_eta_IDL_aB = MCSamples(samples=page_eta_IDL, names=params, labels=params)"
   ]
  },
  {
   "cell_type": "code",
   "execution_count": 7,
   "id": "ddddb1ad",
   "metadata": {
    "ExecuteTime": {
     "end_time": "2024-01-24T02:54:35.839163Z",
     "start_time": "2024-01-24T02:54:35.834015Z"
    }
   },
   "outputs": [],
   "source": [
    "k = Gaussian1DKernel(4)\n",
    "\n",
    "def Gaussian_processing(chain, bins):\n",
    "    prob, aB = np.histogram(chain, bins=bins, range=None)\n",
    "    prob = np.convolve(prob, k, mode='same')\n",
    "    prob = prob/prob.max()\n",
    "    return prob, aB[1:]"
   ]
  },
  {
   "cell_type": "code",
   "execution_count": 8,
   "id": "0137fb21",
   "metadata": {
    "ExecuteTime": {
     "end_time": "2024-01-24T02:54:35.842844Z",
     "start_time": "2024-01-24T02:54:35.840213Z"
    }
   },
   "outputs": [],
   "source": [
    "IDL_probabilitydensity= Gaussian_processing(IDL, 100)\n",
    "MB_IDL_probabilitydensity = Gaussian_processing(MB_IDL, 100)\n",
    "page_eta_IDL_probabilitydensity = Gaussian_processing(page_eta_IDL, 100)\n",
    "MB_SH0ES_HFSN_probabilitydensity = Gaussian_processing(MB_SH0ES_HFSN, 100)\n",
    "MB_SH0ES_localSN_probabilitydensity = Gaussian_processing(MB_SH0ES_localSN, 100)"
   ]
  },
  {
   "cell_type": "code",
   "execution_count": 9,
   "id": "e1ad73fc",
   "metadata": {
    "ExecuteTime": {
     "end_time": "2024-01-24T02:54:36.111096Z",
     "start_time": "2024-01-24T02:54:35.843908Z"
    }
   },
   "outputs": [
    {
     "data": {
      "image/png": "[encoded data removed]",
      "text/plain": [
       "<Figure size 640x480 with 1 Axes>"
      ]
     },
     "metadata": {},
     "output_type": "display_data"
    }
   ],
   "source": [
    "plt.fill_between(IDL_probabilitydensity[1],\n",
    "                 IDL_probabilitydensity[0],\n",
    "                 y2=0,\n",
    "                 color='#FF1F5B',\n",
    "                 alpha=1)\n",
    "\n",
    "plt.fill_between(MB_IDL_probabilitydensity[1],\n",
    "                 MB_IDL_probabilitydensity[0],\n",
    "                 y2=0,\n",
    "                 color='#FFC61E',\n",
    "                 alpha=1)\n",
    "\n",
    "plt.fill_between(page_eta_IDL_probabilitydensity[1],\n",
    "                 page_eta_IDL_probabilitydensity[0],\n",
    "                 y2=0,\n",
    "                 color='#009ADE',\n",
    "                 alpha=1)\n",
    "\n",
    "plt.plot(MB_SH0ES_HFSN_probabilitydensity[1],\n",
    "         MB_SH0ES_HFSN_probabilitydensity[0] * 1.4,\n",
    "         color='#00CD6C',\n",
    "         lw=2.2,\n",
    "         linestyle='-.')\n",
    "\n",
    "plt.plot(MB_SH0ES_localSN_probabilitydensity[1],\n",
    "         MB_SH0ES_localSN_probabilitydensity[0] * 1.4,\n",
    "         color='#AF58BA',\n",
    "         lw=2.2,\n",
    "         linestyle='-.')\n",
    "\n",
    "plt.legend(labels=[\n",
    "    'IDL=HFSN+2DBAO+CC',\n",
    "    r'$\\mathrm{M_B}$(IDL)+LocalSN',\n",
    "    r'($\\mathrm{p_{age}, \\eta}$)(IDL)+LocalSN',\n",
    "    r'$\\mathrm{M_B}$(SH0ES)+HFSN',\n",
    "    r'$\\mathrm{M_B}$(SH0ES)+LocalSN',\n",
    "],\n",
    "           loc='upper left',\n",
    "           title='PAge',\n",
    "           fontsize=10,\n",
    "           title_fontsize=13,\n",
    "           ncol=2)\n",
    "\n",
    "plt.annotate(text='',\n",
    "             xy=(-4.774, 0.8),\n",
    "             xytext=(-4.760, 0.8),\n",
    "             arrowprops=dict(arrowstyle='<->'))\n",
    "plt.annotate(text='$\\sim5\\sigma$',\n",
    "             xy=(-4.77, 0.85),\n",
    "             xytext=(-4.77, 0.85),\n",
    "             arrowprops=None,\n",
    "             fontsize=13)\n",
    "\n",
    "plt.annotate(text='',\n",
    "             xy=(-4.7790, 0.4),\n",
    "             xytext=(-4.760, 0.4),\n",
    "             arrowprops=dict(arrowstyle='<->'))\n",
    "plt.annotate(text='$\\sim4\\sigma$',\n",
    "             xy=(-4.77, 0.45),\n",
    "             xytext=(-4.77, 0.45),\n",
    "             arrowprops=None,\n",
    "             fontsize=13)\n",
    "\n",
    "plt.annotate(text='',\n",
    "             xy=(-4.7780, 1.2),\n",
    "             xytext=(-4.7605, 1.2),\n",
    "             arrowprops=dict(arrowstyle='<->'))\n",
    "plt.annotate(text='$\\sim3.9\\sigma$',\n",
    "             xy=(-4.77, 1.25),\n",
    "             xytext=(-4.77, 1.25),\n",
    "             arrowprops=None,\n",
    "             fontsize=13)\n",
    "\n",
    "plt.xticks(np.arange(-4.8, -4.7, 0.01), fontsize=10)\n",
    "plt.yticks([])\n",
    "plt.xlim(-4.792, -4.748)\n",
    "plt.ylim(0, 2)\n",
    "plt.xlabel(\"$a_B$\", fontsize=13)\n",
    "plt.savefig(\"PAge-aB-probility.pdf\", dpi=1000, bbox_inches='tight')"
   ]
  },
  {
   "cell_type": "code",
   "execution_count": null,
   "id": "60320eb5",
   "metadata": {},
   "outputs": [],
   "source": []
  }
 ],
 "metadata": {
  "kernelspec": {
   "display_name": "Python 3 (ipykernel)",
   "language": "python",
   "name": "python3"
  },
  "language_info": {
   "codemirror_mode": {
    "name": "ipython",
    "version": 3
   },
   "file_extension": ".py",
   "mimetype": "text/x-python",
   "name": "python",
   "nbconvert_exporter": "python",
   "pygments_lexer": "ipython3",
   "version": "3.11.7"
  },
  "toc": {
   "base_numbering": 1,
   "nav_menu": {},
   "number_sections": true,
   "sideBar": true,
   "skip_h1_title": false,
   "title_cell": "Table of Contents",
   "title_sidebar": "Contents",
   "toc_cell": false,
   "toc_position": {},
   "toc_section_display": true,
   "toc_window_display": false
  }
 },
 "nbformat": 4,
 "nbformat_minor": 5
}
